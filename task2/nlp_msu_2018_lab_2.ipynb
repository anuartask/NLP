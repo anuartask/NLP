{
 "cells": [
  {
   "cell_type": "markdown",
   "metadata": {},
   "source": [
    "# Лабораторная работа №2 (курс \"Математические методы анализа текстов\")"
   ]
  },
  {
   "cell_type": "markdown",
   "metadata": {},
   "source": [
    "#### Тема: Определение частей речи и выделение именованных сущностей.\n",
    "\n",
    "\n",
    "**Выдана**:   15 марта 2018\n",
    "\n",
    "**Дедлайн**:   <font color='red'>21:00 29 марта 2017</font>\n",
    "\n",
    "**Среда выполнения**: Jupyter Notebook (Python 2.7)\n",
    "\n",
    "#### Правила:\n",
    "\n",
    "Результат выполнения задания - отчет в формате Jupyter Notebook с кодом и выводами. В ходе выполнения задания требуется реализовать все необходимые алгоритмы, провести эксперименты и ответить на поставленные вопросы. Дополнительные выводы приветствуются. Чем меньше кода и больше комментариев - тем лучше.\n",
    "\n",
    "Все ячейки должны быть \"выполненными\", при этом результат должен воспроизвдиться при проверке (на Python 2.7). Если какой-то код не был запущен или отрабатывает с ошибками, то пункт не засчитывается. Задание, сданное после дедлайна, _не принимается_. Совсем.\n",
    "\n",
    "\n",
    "Задание выполняется самостоятельно. Вы можете обсуждать идеи, объяснять друг другу материал, но не можете обмениваться частями своего кода. Если какие-то студенты будут уличены в списывании, все они автоматически получат за эту работу 0 баллов, а также предвзято негативное отношение преподавателей в будущем. Если вы нашли в Интернете какой-то код, который собираетесь заимствовать, обязательно укажите это в задании: вполне вероятно, что вы не единственный, кто найдёт и использует эту информацию."
   ]
  },
  {
   "cell_type": "markdown",
   "metadata": {},
   "source": [
    "#### Постановка задачи:\n",
    "\n",
    "В данной лабораторной работе необходимо:\n",
    "\n",
    "- обучить скрытую марковскую модель на размеченных данных и реализовать алгоритм Витерби для задачи POS-теггинга (определение частей речи слов в тексте)\n",
    "\n",
    "- научиться использовать ряд POS-теггеров из библиотеки NLTK и сравнить качество их работы\n",
    "\n",
    "- придумать различные признаки для CRF и использовать их в реализации CRF из пакета CRFsuite для решения задачи NER (выделение именованных сущностей в тексте)\n",
    "\n",
    "- использовать готовое решение для решения задачи NER и сравнить качество"
   ]
  },
  {
   "cell_type": "markdown",
   "metadata": {},
   "source": [
    "#### Комментарии и советы:\n",
    "\n",
    "1. Для выполнения потребуются модули Python numpy, nltk, pycrfsuite (для импорта последнего нужно установить пакет python-crfsuite).\n",
    "\n",
    "2. Все необходимые для выполнения задания данные либо приложены, либо могут быть скачаны с помощью nltk.download().\n",
    "\n",
    "3. Посмотреть параметры конструктора и других методов классов можно набрав и выполнив в ячейке с кодом '?full_method_name'.\n",
    "\n",
    "4. В коде Stanford NER tagger, возможно, присутствует ошибка. Для её устранения в файле /usr/local/lib/python2.7/site-packages/nltk/tag/api.py (или его аналоге в Windows) замените строку с номером 66 на следующую: tagged_sents = self.tag_sents([untag(sent) for sent in gold])"
   ]
  },
  {
   "cell_type": "markdown",
   "metadata": {},
   "source": [
    "Комментарии по комментариям: Если обновить версию  nltk, то ошибки в строке 66 нет."
   ]
  },
  {
   "cell_type": "markdown",
   "metadata": {},
   "source": [
    "## 1. Определение частей речи (POS)"
   ]
  },
  {
   "cell_type": "markdown",
   "metadata": {},
   "source": [
    "Мы будем решать задачу определения частей речи (POS-теггинга) с помощью скрытой марковской модели (HMM). Формула совместной плотности наблюдаемых и скрытых переменных задается как\n",
    "\n",
    "$$ p(X, T) = p(T) p(X|T) = p(t_1)  \\prod_{i=2}^N p(t_i|t_{i-1}) \\prod_{i=1}^N p(x_i|t_i)$$\n",
    "\n",
    "В данном случае:\n",
    "\n",
    "- наблюдаемые переменные $X$ - это слова корпуса;\n",
    "\n",
    "- скрытые переменные $T$ - это POS-теги."
   ]
  },
  {
   "cell_type": "markdown",
   "metadata": {},
   "source": [
    "### 1.1. Обучение HMM на размеченных данных\n",
    "\n",
    "Требуется построить скрытую марковскую модель и настроить все ее параметры с помощью оценок максимального правдоподобия по размеченным данным (последовательности пар слово+тег):\n",
    "\n",
    "- Вероятности переходов между скрытыми состояниями $p(t_i | t_{i - 1})$ посчитаны на основе частот биграмм POS-тегов. \n",
    "\n",
    "- Вероятности эмиссий наблюдаемых состояний $p(x_i | t_i)$ посчитаны на основе частот \"POS-тег - слово\".\n",
    "\n",
    "- Так как счетчики разрежены, то приходится сделать сглаживание по Лапласу (add-one smoothing).\n",
    "\n",
    "- Распределение вероятностей начальных состояний $p(t_1)$ задано равномерным.\n",
    "\n",
    "Так как используются размеченные данные (то есть нет скрытых состояний $T$), то у нас нет необходимости в оценивании апостериорных вероятностей на скрытые переменные с помощью алгоритма forward-backword и использовании EM-алгоритма."
   ]
  },
  {
   "cell_type": "markdown",
   "metadata": {},
   "source": [
    "Необходимо было запустить HMM на корпусе brown с универсальной системой тегирования. В этой системе содержатся следующие теги:\n",
    "\n",
    "- ADJ - adjective (new, good, high, ...)\n",
    "- ADP - adposition\t(on, of, at, ...)\n",
    "- ADV - adverb\t(really, already, still, ...)\n",
    "- CONJ\t- conjunction\t(and, or, but, ...)\n",
    "- DET - determiner, article\t(the, a, some, ...)\n",
    "- NOUN\t- noun\t(year, home, costs, ...)\n",
    "- NUM - numeral\t(twenty-four, fourth, 1991, ...)\n",
    "- PRT -\tparticle (at, on, out, ...)\n",
    "- PRON - pronoun (he, their, her, ...)\n",
    "- VERB - verb (is, say, told, ...)\n",
    "- .\t- punctuation marks\t(. , ;)\n",
    "- X\t- other\t(ersatz, esprit, dunno, ...)"
   ]
  },
  {
   "cell_type": "code",
   "execution_count": 1,
   "metadata": {
    "collapsed": false
   },
   "outputs": [],
   "source": [
    "from nltk.corpus import brown\n",
    "import numpy as np\n",
    "import random\n",
    "import matplotlib.pyplot as plt\n",
    "from collections import Counter\n",
    "import matplotlib\n",
    "%matplotlib inline\n",
    "font = {'family': 'Verdana',\n",
    "        'weight': 'normal'}\n",
    "matplotlib.rc('font', **font)\n",
    "\n",
    "brown_tagged_sents = brown.tagged_sents(tagset=\"universal\")"
   ]
  },
  {
   "cell_type": "code",
   "execution_count": 2,
   "metadata": {
    "collapsed": false
   },
   "outputs": [
    {
     "data": {
      "text/plain": [
       "[[(u'The', u'DET'), (u'Fulton', u'NOUN'), (u'County', u'NOUN'), (u'Grand', u'ADJ'), (u'Jury', u'NOUN'), (u'said', u'VERB'), (u'Friday', u'NOUN'), (u'an', u'DET'), (u'investigation', u'NOUN'), (u'of', u'ADP'), (u\"Atlanta's\", u'NOUN'), (u'recent', u'ADJ'), (u'primary', u'NOUN'), (u'election', u'NOUN'), (u'produced', u'VERB'), (u'``', u'.'), (u'no', u'DET'), (u'evidence', u'NOUN'), (u\"''\", u'.'), (u'that', u'ADP'), (u'any', u'DET'), (u'irregularities', u'NOUN'), (u'took', u'VERB'), (u'place', u'NOUN'), (u'.', u'.')], [(u'The', u'DET'), (u'jury', u'NOUN'), (u'further', u'ADV'), (u'said', u'VERB'), (u'in', u'ADP'), (u'term-end', u'NOUN'), (u'presentments', u'NOUN'), (u'that', u'ADP'), (u'the', u'DET'), (u'City', u'NOUN'), (u'Executive', u'ADJ'), (u'Committee', u'NOUN'), (u',', u'.'), (u'which', u'DET'), (u'had', u'VERB'), (u'over-all', u'ADJ'), (u'charge', u'NOUN'), (u'of', u'ADP'), (u'the', u'DET'), (u'election', u'NOUN'), (u',', u'.'), (u'``', u'.'), (u'deserves', u'VERB'), (u'the', u'DET'), (u'praise', u'NOUN'), (u'and', u'CONJ'), (u'thanks', u'NOUN'), (u'of', u'ADP'), (u'the', u'DET'), (u'City', u'NOUN'), (u'of', u'ADP'), (u'Atlanta', u'NOUN'), (u\"''\", u'.'), (u'for', u'ADP'), (u'the', u'DET'), (u'manner', u'NOUN'), (u'in', u'ADP'), (u'which', u'DET'), (u'the', u'DET'), (u'election', u'NOUN'), (u'was', u'VERB'), (u'conducted', u'VERB'), (u'.', u'.')], ...]"
      ]
     },
     "execution_count": 2,
     "metadata": {},
     "output_type": "execute_result"
    }
   ],
   "source": [
    "brown_tagged_sents"
   ]
  },
  {
   "cell_type": "markdown",
   "metadata": {},
   "source": [
    "Формат датасета: список предложений, где каждое предложение -- это список пар (слово, тег). Видно, что слова не приведены в нижний регистру, поэтому \"Apple\" и \"apple\" будут относиться к разным словам. Поэтому переведём всё к нижнему регистру."
   ]
  },
  {
   "cell_type": "markdown",
   "metadata": {},
   "source": [
    "Сделаем случайное разбиение выборки на обучение и контроль в отношении 9:1."
   ]
  },
  {
   "cell_type": "code",
   "execution_count": 3,
   "metadata": {
    "collapsed": false
   },
   "outputs": [
    {
     "name": "stdout",
     "output_type": "stream",
     "text": [
      "Количество предложений: 57340\n",
      "Количество слов: 1161192\n",
      "Количество предложений на обучении =  51606\n",
      "Количество предложений на тесте =  5734\n"
     ]
    }
   ],
   "source": [
    "print u\"Количество предложений:\", len(brown_tagged_sents)\n",
    "print u'Количество слов:', sum(len(sentence) for sentence in brown_tagged_sents)\n",
    "\n",
    "brown_tagged_sents = list(brown_tagged_sents)\n",
    "\n",
    "random.shuffle(brown_tagged_sents)\n",
    "brown_tagged_sents = [[(word.lower(), tag) for (word, tag) in sent] \n",
    "                      for sent in brown_tagged_sents]\n",
    "train_sents = brown_tagged_sents[:int(0.9 * len(brown_tagged_sents))]\n",
    "test_sents = brown_tagged_sents[int(0.9 * len(brown_tagged_sents)):]\n",
    "\n",
    "print u'Количество предложений на обучении = ', len(train_sents)\n",
    "print u'Количество предложений на тесте = ', len(test_sents)"
   ]
  },
  {
   "cell_type": "code",
   "execution_count": 647,
   "metadata": {
    "collapsed": false
   },
   "outputs": [
    {
     "data": {
      "image/png": "[encoded data removed]",
      "text/plain": [
       "<matplotlib.figure.Figure at 0x7fa291748990>"
      ]
     },
     "metadata": {},
     "output_type": "display_data"
    }
   ],
   "source": [
    "len_sentences = [len(sentence) for sentence in brown_tagged_sents]\n",
    "len_of_sents = Counter(len_sentences)\n",
    "counts, len_freqs = zip(*len_of_sents.items())\n",
    "plt.figure(figsize=(10, 5))\n",
    "plt.xlabel(u'Длина предложения')\n",
    "plt.ylabel(u'Сколько таких предложений')\n",
    "plt.bar(counts, len_freqs)\n",
    "plt.grid()"
   ]
  },
  {
   "cell_type": "markdown",
   "metadata": {},
   "source": [
    "Распределение длин предложений в тексте похоже на нормальное с центром в 20, что не вызывает сомнений, так как длинные и короткие предложения трудно представить."
   ]
  },
  {
   "cell_type": "code",
   "execution_count": 635,
   "metadata": {
    "collapsed": true
   },
   "outputs": [],
   "source": [
    "words = [word for sentence in brown_tagged_sents for word, _ in sentence]\n",
    "tags = [tag for sentence in brown_tagged_sents for _, tag in sentence]\n",
    "\n",
    "word_freq_dict = Counter(words)\n",
    "tag_freq_dict = Counter(tags)"
   ]
  },
  {
   "cell_type": "code",
   "execution_count": 636,
   "metadata": {
    "collapsed": false
   },
   "outputs": [],
   "source": [
    "words, word_freqs = zip(*word_freq_dict.items())\n",
    "inds = np.argsort(word_freqs)[::-1]\n",
    "words = np.array(words)[inds]\n",
    "word_freqs = np.array(word_freqs)[inds]\n",
    "\n",
    "tags, tag_freqs = zip(*tag_freq_dict.items())\n",
    "inds = np.argsort(tag_freqs)[::-1]\n",
    "tags = np.array(tags)[inds]\n",
    "tag_freqs = np.array(tag_freqs)[inds]"
   ]
  },
  {
   "cell_type": "code",
   "execution_count": 637,
   "metadata": {
    "collapsed": false
   },
   "outputs": [
    {
     "data": {
      "text/plain": [
       "<matplotlib.text.Text at 0x7fa2789ff590>"
      ]
     },
     "execution_count": 637,
     "metadata": {},
     "output_type": "execute_result"
    },
    {
     "data": {
      "image/png": "[encoded data removed]",
      "text/plain": [
       "<matplotlib.figure.Figure at 0x7fa283519910>"
      ]
     },
     "metadata": {},
     "output_type": "display_data"
    }
   ],
   "source": [
    "inds = np.arange(len(tags))\n",
    "bar_width = 0.3\n",
    "plt.figure(figsize=(10, 5))\n",
    "plt.bar(inds, tag_freqs, width=0.3)\n",
    "plt.grid()\n",
    "plt.xticks(inds + bar_width, tags)\n",
    "plt.xlabel(u'Части речи')\n",
    "plt.ylabel(u'Количество')"
   ]
  },
  {
   "cell_type": "markdown",
   "metadata": {},
   "source": [
    "Видно, что преобладающее большинство тегов -- существительные и глаголы. Здесь также нет сомнений, так как предложения можно построить только на основе существительных и глаголов."
   ]
  },
  {
   "cell_type": "code",
   "execution_count": 638,
   "metadata": {
    "collapsed": false,
    "scrolled": true
   },
   "outputs": [
    {
     "data": {
      "text/plain": [
       "<matplotlib.text.Text at 0x7fa26cd8ea50>"
      ]
     },
     "execution_count": 638,
     "metadata": {},
     "output_type": "execute_result"
    },
    {
     "data": {
      "image/png": "[encoded data removed]",
      "text/plain": [
       "<matplotlib.figure.Figure at 0x7fa29b4fa1d0>"
      ]
     },
     "metadata": {},
     "output_type": "display_data"
    }
   ],
   "source": [
    "inds = np.arange(len(words))[:10]\n",
    "bar_width = 0.3\n",
    "plt.figure(figsize=(10, 5))\n",
    "plt.bar(inds, word_freqs[:10], width=0.3)\n",
    "plt.grid()\n",
    "plt.xticks(inds + bar_width, words[:10])\n",
    "plt.xlabel(u'Слова')\n",
    "plt.ylabel(u'Количество')"
   ]
  },
  {
   "cell_type": "markdown",
   "metadata": {},
   "source": [
    "Большинство \"слов\" -- это артикли, пунктуация и предлоги, которые невозможно не встретить в английских предложениях. Посмотрим на редко встречаемые слова."
   ]
  },
  {
   "cell_type": "code",
   "execution_count": 639,
   "metadata": {
    "collapsed": false
   },
   "outputs": [
    {
     "data": {
      "text/plain": [
       "<matplotlib.text.Text at 0x7fa27b6c1c50>"
      ]
     },
     "execution_count": 639,
     "metadata": {},
     "output_type": "execute_result"
    },
    {
     "data": {
      "image/png": "[encoded data removed]",
      "text/plain": [
       "<matplotlib.figure.Figure at 0x7fa2a2863750>"
      ]
     },
     "metadata": {},
     "output_type": "display_data"
    }
   ],
   "source": [
    "inds = np.arange(len(words))[-10:]\n",
    "bar_width = 0.1\n",
    "plt.figure(figsize=(10, 5))\n",
    "plt.bar(inds, word_freqs[-10:], width=0.3)\n",
    "plt.xticks(inds + bar_width, words[-10:], rotation=45)\n",
    "plt.xlabel(u'Слова')\n",
    "plt.ylabel(u'Количество')"
   ]
  },
  {
   "cell_type": "code",
   "execution_count": 646,
   "metadata": {
    "collapsed": false
   },
   "outputs": [
    {
     "data": {
      "text/plain": [
       "<matplotlib.text.Text at 0x7fa298e96b10>"
      ]
     },
     "execution_count": 646,
     "metadata": {},
     "output_type": "execute_result"
    },
    {
     "data": {
      "image/png": "[encoded data removed]",
      "text/plain": [
       "<matplotlib.figure.Figure at 0x7fa2a2863990>"
      ]
     },
     "metadata": {},
     "output_type": "display_data"
    }
   ],
   "source": [
    "plt.figure(figsize=(10, 5))\n",
    "plt.plot(word_freqs, lw=3)\n",
    "plt.grid()\n",
    "plt.yscale('log')\n",
    "plt.xlabel(u'Слова, отсортированные по встречаемости')\n",
    "plt.ylabel(u'Количество слов')"
   ]
  },
  {
   "cell_type": "markdown",
   "metadata": {},
   "source": [
    "Сформируем необходимые данные для алгоритма Витерби:\n",
    "$$\n",
    "p(t_i|t_{i-1}) = \\frac{p(t_i, t_{i-1})}{p(t_{i-1})} = \\frac{c(t_i, t_{i-1})}{\\sum_{t_i}c(t_i, t_{i-1})} \\approx \\frac{c(t_i, t_{i-1}) + \\delta}{\\sum_{t_i}c(t_i, t_{i-1}) + \\delta V_t}\n",
    "$$\n",
    "\n",
    "$$\n",
    "p(x_i|t_i) = \\frac{p(x_i, t_i)}{p(t_i)} = \\frac{c(x_i, t_i)}{\\sum_{x_i}c(x_i, t_i)} \\approx \\frac{c(x_i, t_i) + \\delta}{\\sum_{x_i}c(x_i, t_i) + \\delta V_x}\n",
    "$$\n",
    "\n",
    "$$\n",
    "p(t_1) = U\\{1, \\dots, V_t\\}\n",
    "$$"
   ]
  },
  {
   "cell_type": "code",
   "execution_count": 9,
   "metadata": {
    "collapsed": true
   },
   "outputs": [],
   "source": [
    "tag2ind = {\n",
    "    tag : i for i, tag in enumerate(tag_freq_dict)\n",
    "}\n",
    "ind2tag = {\n",
    "    tag2ind[tag] : tag for tag in tag_freq_dict.keys()\n",
    "}\n",
    "word2ind = {\n",
    "    word : i for i, word in enumerate(word_freq_dict)\n",
    "}"
   ]
  },
  {
   "cell_type": "code",
   "execution_count": 10,
   "metadata": {
    "collapsed": false
   },
   "outputs": [],
   "source": [
    "def calc_viterbi_params(sents, delta=1.0):\n",
    "    \n",
    "    word_sents = [[word for word, _ in sentence] for sentence in sents]\n",
    "    tag_sents = [[tag for _, tag in sentence] for sentence in sents]    \n",
    "    \n",
    "    tag_grams = Counter()\n",
    "    for sentence in tag_sents:\n",
    "        for i in range(len(sentence)-1):\n",
    "            tag_grams[tuple(sentence[i:i+2])] += 1\n",
    "    word_tag_grams = Counter()\n",
    "    for sentence in sents:\n",
    "        for word_tag in sentence:\n",
    "            word_tag_grams[word_tag] += 1\n",
    "    \n",
    "    V_tag = len(tag_freq_dict)\n",
    "    V_word = len(word_freq_dict)\n",
    "    tag_matr = np.zeros((V_tag, V_tag))# p(t_i|t_{i-1})\n",
    "    word_tag_matr = np.ones((V_word, V_tag)) * delta #p(x_i|t_i)\n",
    "\n",
    "    for word_tag, value in word_tag_grams.items():\n",
    "        word, tag = word_tag\n",
    "        word_tag_matr[word2ind[word], tag2ind[tag]] += value\n",
    "    \n",
    "    for tag_gram, value in tag_grams.items():\n",
    "        tag1, tag2 = tag_gram # t_{i-1}, t_i\n",
    "        tag_matr[tag2ind[tag2], tag2ind[tag1]] = value\n",
    "\n",
    "    for i in range(V_tag):\n",
    "        word_tag_matr[:, i] = word_tag_matr[:, i] / word_tag_matr[:, i].sum()\n",
    "        tag_matr[:, i] = (tag_matr[:, i] + delta) / (tag_matr[:, i].sum() + delta * V_tag)\n",
    "\n",
    "    tag_prob = np.ones(V_tag) / V_tag\n",
    "    \n",
    "    return tag_prob, word_tag_matr, tag_matr"
   ]
  },
  {
   "cell_type": "code",
   "execution_count": 11,
   "metadata": {
    "collapsed": false
   },
   "outputs": [],
   "source": [
    "tag_prob, word_tag_matr, tag_matr = calc_viterbi_params(train_sents, delta=0.01)"
   ]
  },
  {
   "cell_type": "markdown",
   "metadata": {},
   "source": [
    "#### 1.2 Алгоритм Витерби для применения модели\n",
    "\n",
    "Чтобы использовать обученную модель для определения частей речи на новых данных, необходимо реализовать алгоритм Витерби. Это алгоритм динамического программирования, с помощью которого мы будем находить наиболее вероятную последовательность скрытых состояний модели для фиксированной последовательности слов:\n",
    "\n",
    "$$ \\hat{T} = \\arg \\max_{T} p(T|X) = \\arg \\max_{T} p(X, T) $$"
   ]
  },
  {
   "cell_type": "markdown",
   "metadata": {},
   "source": [
    "Определим функцию, определяющую максимальную вероятность последовательности, заканчивающейся на $i$-ой позиции в состоянии $k$:\n",
    "\n",
    "$$\\delta(k, i) = \\max_{t_1, \\dots t_{i-1}} p(x_1, \\dots x_i, t_1, \\dots t_i=k)$$\n",
    "\n",
    "Тогда $\\max_{k} \\delta(k, N)$ - максимальная вероятность всей последовательности. А состояния, на которых эта вероятность достигается - ответ задачи.\n",
    "\n",
    "Алгоритм Витерби заключается в последовательном пересчете функции $\\delta(k, i)$ по формуле:\n",
    "\n",
    "$$\\delta(k, i) = \\max_{m} \\delta(m, i-1) p(t_i = k|t_{i-1} = m) p(x_i|t_i=k) $$\n",
    "\n",
    "Аналогично пересчитывается функция, определяющая, на каком состоянии этот максимум достигается:\n",
    "\n",
    "$$s(k, i) = \\arg \\max_{m} \\delta(m, i-1) p(t_i = k|t_{i-1} = m) p(x_i|t_i=k) $$\n",
    "\n",
    "\n",
    "На практике это означает заполнение двумерных массивов размерности: (длина последовательности) $\\times$ (количество возможных состояний). Когда массивы заполнены, $\\arg \\max_{k} \\delta(k, N)$ говорит о последнем состоянии. Начиная с него можно восстановить все состояния по массиву $s$, делая проход назад.\n",
    "\n",
    "Осталось уточнить, как стартовать последовательный пересчет (чем заполнить первый столбец массива вероятностей):\n",
    "\n",
    "$$\\delta(k, 1) = p(k) p(x_1|t_1=k)$$\n",
    "\n",
    "В реализации всё переведено к логарифмам, т.к. произведение большого числа маленьких вероятностей может приводить к вычислительным ошибкам:\n",
    "\n",
    "$$\\delta(k, 1) = \\log p(k) + \\log p(x_1|t_1=k) $$\n",
    "$$\\delta(k, i) = \\max_{m} \\big\\{ \\delta(m, i-1) + \\log p(t_i = k|t_{i-1} = m) + \\log p(x_i|t_i=k)  \\big\\}$$\n"
   ]
  },
  {
   "cell_type": "code",
   "execution_count": 12,
   "metadata": {
    "collapsed": true
   },
   "outputs": [],
   "source": [
    "def viterbi_algorithm(pi, A, B, test_sents):\n",
    "    \"\"\"\n",
    "        \\pi_i = p(t_1 = i)\n",
    "        A[i, j] = p(t_k = ind2tag[i]| t_{k-1} = ind2tag[j])\n",
    "        B[i, j] = p(x_k = ind2word[i] | t_k = ind2tag[j])\n",
    "    \"\"\"\n",
    "    test_tag_sents = []\n",
    "    for sentence in test_sents:\n",
    "        N = len(sentence)\n",
    "        delta = np.zeros((len(pi), N))\n",
    "        s = np.zeros((len(pi), N), dtype=int)\n",
    "        delta[:, 0] = np.log(pi) + np.log(B[word2ind[sentence[0]], :])\n",
    "        for i in range(1, N):\n",
    "            delta[:, i] = np.max(delta[:, i-1][None, :] + np.log(A), axis=1) + np.log(B[word2ind[sentence[i]], :])\n",
    "            s[:, i] = np.argmax(delta[:, i-1][None, :] + np.log(A), axis=1)\n",
    "        ind = np.argmax(delta[:, -1])\n",
    "        tag_sent = [ind2tag[ind]]\n",
    "        for i in range(1, N):\n",
    "            ind = s[ind, -i]\n",
    "            tag_sent.append(ind2tag[ind])\n",
    "        test_tag_sents.append(tag_sent[::-1])\n",
    "    return test_tag_sents"
   ]
  },
  {
   "cell_type": "markdown",
   "metadata": {},
   "source": [
    "Проверим работу алгоритма на модельных примерах.\n",
    "\n",
    "- 'he can stay'\n",
    "- 'a milk can'\n",
    "- 'i saw a dog'\n",
    "- 'an old saw'"
   ]
  },
  {
   "cell_type": "code",
   "execution_count": 13,
   "metadata": {
    "collapsed": false
   },
   "outputs": [],
   "source": [
    "t = viterbi_algorithm(tag_prob, tag_matr, word_tag_matr, \n",
    "    [u'he can stay'.split(),\n",
    "     u'a milk can'.split(),\n",
    "     u'i saw a dog'.split(),\n",
    "     u'an old saw'.split()]\n",
    "    )"
   ]
  },
  {
   "cell_type": "code",
   "execution_count": 14,
   "metadata": {
    "collapsed": false
   },
   "outputs": [
    {
     "data": {
      "text/plain": [
       "[[u'PRON', u'VERB', u'VERB'],\n",
       " [u'DET', u'NOUN', u'VERB'],\n",
       " [u'PRON', u'VERB', u'DET', u'NOUN'],\n",
       " [u'DET', u'ADJ', u'VERB']]"
      ]
     },
     "execution_count": 14,
     "metadata": {},
     "output_type": "execute_result"
    }
   ],
   "source": [
    "t"
   ]
  },
  {
   "cell_type": "markdown",
   "metadata": {},
   "source": [
    "Алгоритм Витерби сработал точно на модельных примерах. Посмотрим на отложенной выборке."
   ]
  },
  {
   "cell_type": "code",
   "execution_count": 15,
   "metadata": {
    "collapsed": false
   },
   "outputs": [],
   "source": [
    "word_test = [[word for word, _ in sentence] for sentence in test_sents]\n",
    "tag_test = [tag for sentence in test_sents for _, tag in sentence]"
   ]
  },
  {
   "cell_type": "code",
   "execution_count": 652,
   "metadata": {
    "collapsed": false
   },
   "outputs": [
    {
     "name": "stdout",
     "output_type": "stream",
     "text": [
      "CPU times: user 2.9 s, sys: 12.1 ms, total: 2.91 s\n",
      "Wall time: 3.8 s\n"
     ]
    }
   ],
   "source": [
    "%%time\n",
    "pred_tag = viterbi_algorithm(tag_prob, tag_matr, word_tag_matr, word_test)\n",
    "pred_tag = [tag for tag_sent in pred_tag for tag in tag_sent]"
   ]
  },
  {
   "cell_type": "code",
   "execution_count": 17,
   "metadata": {
    "collapsed": false
   },
   "outputs": [
    {
     "name": "stdout",
     "output_type": "stream",
     "text": [
      "Final accuracy: 0.953969208249\n"
     ]
    }
   ],
   "source": [
    "print \"Final accuracy:\", (np.array(tag_test) == np.array(pred_tag)).mean()"
   ]
  },
  {
   "cell_type": "markdown",
   "metadata": {},
   "source": [
    "Довольно неплохое accuracy для задачи с 12 классами. Это, возможно, из-за довольно простой структуры предложений в английском языке и эту структуру удачно удалось словить HMM."
   ]
  },
  {
   "cell_type": "markdown",
   "metadata": {},
   "source": [
    "#### 1.3. Готовые POS-теггеры из NLTK"
   ]
  },
  {
   "cell_type": "markdown",
   "metadata": {},
   "source": [
    "В данном подпункте необходимо сравнить работу HMM с готовыми средставми, доступными в библиотеке NLTK: http://www.nltk.org/api/nltk.tag.html"
   ]
  },
  {
   "cell_type": "markdown",
   "metadata": {},
   "source": [
    "Кандидаты для сравнения:\n",
    "- Простейший теггер, который всем словам ставит в соответствие одну и ту же метку\n",
    "- Основанный на правилах RegexpTagger (правила можно поискать в Интернете или придумать самим)\n",
    "- N-граммные теггеры (разберитесь и поэкспериментируйте с параметром backoff)\n",
    "- Теггеры на основе графических моделей (можно взять только Stanford): \n",
    "    - HiddenMarkovModelTagger\n",
    "    - CRFTagger\n",
    "    - StanfordPOSTagger (потребуется .jar файл теггера и обученная модель (легко находятся в Интернете), чтобы подать на вход конструктору класса)\n",
    "- BrillTagger, основанный на трансформациях\n",
    "\n",
    "При проведении экспериментов обращайте внимание на следующие моменты (и отразите их в отчете):\n",
    "- Какой подход лежит в основе теггера\n",
    "- На каких данных он обучен (если Вы скачали готовую модель)\n",
    "- Сколько времени занимает обучение на brown корпусе (если обучаете сами)\n",
    "- Какая точность получается на контролькой выборке (метод evaluate())\n",
    "\n",
    "Сформируйте рекоммендиции о том, какую технологию Вы бы использовали, если встретитесь с задачей определения частей речи в будущем."
   ]
  },
  {
   "cell_type": "code",
   "execution_count": 18,
   "metadata": {
    "collapsed": false
   },
   "outputs": [],
   "source": [
    "import nltk\n",
    "from nltk.tag import DefaultTagger\n",
    "from nltk.tag import RegexpTagger\n",
    "from nltk.tag import UnigramTagger\n",
    "from nltk.tag import BigramTagger\n",
    "from nltk.tag import TrigramTagger\n",
    "from nltk.tag import  HiddenMarkovModelTagger\n",
    "from nltk.tag import CRFTagger\n",
    "from nltk.tag.stanford import StanfordPOSTagger\n",
    "from nltk.tag import BrillTagger"
   ]
  },
  {
   "cell_type": "markdown",
   "metadata": {},
   "source": [
    "#### DefaultTagger"
   ]
  },
  {
   "cell_type": "code",
   "execution_count": 649,
   "metadata": {
    "collapsed": false
   },
   "outputs": [
    {
     "name": "stdout",
     "output_type": "stream",
     "text": [
      "Точность DefaultTagger: 0.235538594244\n",
      "CPU times: user 142 ms, sys: 4.01 ms, total: 146 ms\n",
      "Wall time: 141 ms\n"
     ]
    }
   ],
   "source": [
    "%%time\n",
    "stupid_tagger = DefaultTagger(u'NOUN')\n",
    "print u\"Точность DefaultTagger:\", stupid_tagger.evaluate(test_sents)"
   ]
  },
  {
   "cell_type": "markdown",
   "metadata": {},
   "source": [
    "Самый простой константный тегер, который для всего выдаёт одно и то же значение. Разумно брать значение константы, как самый часто встречаемый класс в трейне. Можно узнать распределение классов на тесте или подать его более мощному тегеру."
   ]
  },
  {
   "cell_type": "markdown",
   "metadata": {},
   "source": [
    "#### RegexpTagger"
   ]
  },
  {
   "cell_type": "code",
   "execution_count": 650,
   "metadata": {
    "collapsed": true
   },
   "outputs": [],
   "source": [
    "regexp = [(r'(.*able|.*ing)$', 'ADJ'),       # adjectives\n",
    "          (r'.*ly$', 'ADV'),                 # adverbs\n",
    "          (r'^-?[0-9]+(.[0-9]+)?$', 'NUM'),  # numbers\n",
    "          (r'(the|a|an|some)$', 'DET'),      # determiner, article\n",
    "          (r'.*ed$', 'VERB'),                # verb\n",
    "          (r'(.*s|.*ness)$', 'NOUN'),        # noun\n",
    "          (r'[.,;]', '.'),                   # pucntuation\n",
    "          (r'.*', 'X')                       # other \n",
    "          ]"
   ]
  },
  {
   "cell_type": "code",
   "execution_count": 651,
   "metadata": {
    "collapsed": false
   },
   "outputs": [
    {
     "name": "stdout",
     "output_type": "stream",
     "text": [
      "Точность RegexpTagger: 0.297453189395\n",
      "CPU times: user 2.18 s, sys: 44.1 ms, total: 2.22 s\n",
      "Wall time: 2.18 s\n"
     ]
    }
   ],
   "source": [
    "%%time\n",
    "regexp_tagger = RegexpTagger(regexp, backoff=stupid_tagger)\n",
    "print u\"Точность RegexpTagger:\", regexp_tagger.evaluate(test_sents)"
   ]
  },
  {
   "cell_type": "markdown",
   "metadata": {},
   "source": [
    "Также простой тегер. Процесса обучения нет. Нужно просто задать регулярные выражения и ответы по ним, то есть, по сути, обучение проводим мы сами. "
   ]
  },
  {
   "cell_type": "markdown",
   "metadata": {},
   "source": [
    "#### UnigramTagger"
   ]
  },
  {
   "cell_type": "code",
   "execution_count": 21,
   "metadata": {
    "collapsed": false
   },
   "outputs": [
    {
     "name": "stdout",
     "output_type": "stream",
     "text": [
      "Точность UnigramTagger: 0.932378388269\n",
      "CPU times: user 2.9 s, sys: 28.7 ms, total: 2.93 s\n",
      "Wall time: 2.91 s\n"
     ]
    }
   ],
   "source": [
    "%%time\n",
    "unigram_tagger = UnigramTagger(train_sents)\n",
    "print u\"Точность UnigramTagger:\", unigram_tagger.evaluate(test_sents)"
   ]
  },
  {
   "cell_type": "markdown",
   "metadata": {},
   "source": [
    "#### BigramTagger"
   ]
  },
  {
   "cell_type": "code",
   "execution_count": 22,
   "metadata": {
    "collapsed": false
   },
   "outputs": [
    {
     "name": "stdout",
     "output_type": "stream",
     "text": [
      "Точность BigramTagger: 0.94111752969\n",
      "CPU times: user 5.71 s, sys: 49.5 ms, total: 5.76 s\n",
      "Wall time: 5.74 s\n"
     ]
    }
   ],
   "source": [
    "%%time\n",
    "bigram_tagger = BigramTagger(train_sents, backoff=unigram_tagger)\n",
    "print u\"Точность BigramTagger:\", bigram_tagger.evaluate(test_sents)"
   ]
  },
  {
   "cell_type": "markdown",
   "metadata": {},
   "source": [
    "#### TrigramTagger"
   ]
  },
  {
   "cell_type": "code",
   "execution_count": 23,
   "metadata": {
    "collapsed": false
   },
   "outputs": [
    {
     "name": "stdout",
     "output_type": "stream",
     "text": [
      "Точность TrigramTagger: 0.940716731579\n",
      "CPU times: user 8.11 s, sys: 120 ms, total: 8.23 s\n",
      "Wall time: 8.09 s\n"
     ]
    }
   ],
   "source": [
    "%%time\n",
    "trigram_tagger = TrigramTagger(train_sents, backoff=bigram_tagger)\n",
    "print u\"Точность TrigramTagger:\", trigram_tagger.evaluate(test_sents)"
   ]
  },
  {
   "cell_type": "markdown",
   "metadata": {},
   "source": [
    "Тегеры на основе униграм, биграм, триграм. Backoff -- это тот тегер, к которому обращается текущий, если не было найдено примеров (аналогия с Backoff в сглаживании биграм, триграм). Довольно высокое качество, однако по мере увеличения грамности (из биграмы в триграму) качество уменьшается."
   ]
  },
  {
   "cell_type": "markdown",
   "metadata": {},
   "source": [
    "#### StanfordPOSTagger"
   ]
  },
  {
   "cell_type": "code",
   "execution_count": 35,
   "metadata": {
    "collapsed": true
   },
   "outputs": [],
   "source": [
    "from nltk.tag import mapping\n",
    "import os\n",
    "from nltk.internals import find_jars_within_path\n",
    "\n",
    "ptb2univer = mapping.tagset_mapping('en-ptb', 'universal')\n",
    "\n",
    "java_path = \"/usr/bin/java\"\n",
    "os.environ['JAVAHOME'] = java_path\n",
    "path_to_model = \"stanford-postagger-2015-12-09/models/english-bidirectional-distsim.tagger\"\n",
    "path_to_jar = \"stanford-postagger-2015-12-09/stanford-postagger.jar\""
   ]
  },
  {
   "cell_type": "code",
   "execution_count": 36,
   "metadata": {
    "collapsed": false
   },
   "outputs": [
    {
     "name": "stderr",
     "output_type": "stream",
     "text": [
      "/root/anaconda3/envs/ipykernel_py2/lib/python2.7/site-packages/nltk/tag/stanford.py:149: DeprecationWarning: \n",
      "The StanfordTokenizer will be deprecated in version 3.2.5.\n",
      "Please use \u001b[91mnltk.tag.corenlp.CoreNLPPOSTagger\u001b[0m or \u001b[91mnltk.tag.corenlp.CoreNLPNERTagger\u001b[0m instead.\n",
      "  super(StanfordPOSTagger, self).__init__(*args, **kwargs)\n"
     ]
    },
    {
     "name": "stdout",
     "output_type": "stream",
     "text": [
      "Точность StanfordPOSTagger: 0.910979254341\n",
      "CPU times: user 228 ms, sys: 68 ms, total: 296 ms\n",
      "Wall time: 2min 17s\n"
     ]
    }
   ],
   "source": [
    "%%time\n",
    "stanford_tagger = StanfordPOSTagger(path_to_model, path_to_jar)\n",
    "stanford_dir = stanford_tagger._stanford_jar.rpartition('/')[0]\n",
    "stanford_jars = find_jars_within_path(stanford_dir)\n",
    "stanford_tagger._stanford_jar = ':'.join(stanford_jars)\n",
    "stanford_pred = [\n",
    "    ptb2univer[pred_tag] for pred_sentence in stanford_tagger.tag_sents(word_test)\n",
    "    for _, pred_tag in pred_sentence\n",
    "]\n",
    "print u\"Точность StanfordPOSTagger:\", (np.array(tag_test) == np.array(stanford_pred)).mean()"
   ]
  },
  {
   "cell_type": "markdown",
   "metadata": {},
   "source": [
    "StanfordPOSTagger -- тегер на основе графических моделей, однако показал значительно плохое качество классификации (по сравнению с HMM). Преимущество: можно получить уже обученный тегер с сайта https://nlp.stanford.edu/software/tagger.shtml"
   ]
  },
  {
   "cell_type": "markdown",
   "metadata": {},
   "source": [
    "#### CRFTagger"
   ]
  },
  {
   "cell_type": "code",
   "execution_count": 32,
   "metadata": {
    "collapsed": false
   },
   "outputs": [
    {
     "name": "stdout",
     "output_type": "stream",
     "text": [
      "Точность CRFTagger: 0.962037448484\n",
      "CPU times: user 5min 42s, sys: 248 ms, total: 5min 42s\n",
      "Wall time: 5min 42s\n"
     ]
    }
   ],
   "source": [
    "%%time\n",
    "crf_tagger = CRFTagger()\n",
    "crf_tagger.train(train_sents, 'model.crf.tagger')\n",
    "print u\"Точность CRFTagger:\", crf_tagger.evaluate(test_sents)"
   ]
  },
  {
   "cell_type": "markdown",
   "metadata": {},
   "source": [
    "CRFTagger -- также основан на графических моделях. Подробное описание чуть ниже. Имеет очень хорошее качество классификации и обучается не очень долго."
   ]
  },
  {
   "cell_type": "markdown",
   "metadata": {},
   "source": [
    "#### BrillTagger"
   ]
  },
  {
   "cell_type": "code",
   "execution_count": 26,
   "metadata": {
    "collapsed": false
   },
   "outputs": [],
   "source": [
    "from nltk.tag import brill\n",
    "brill_tagger = nltk.tag.brill_trainer.BrillTaggerTrainer(bigram_tagger, brill.nltkdemo18plus())"
   ]
  },
  {
   "cell_type": "code",
   "execution_count": 30,
   "metadata": {
    "collapsed": false
   },
   "outputs": [
    {
     "name": "stdout",
     "output_type": "stream",
     "text": [
      "CPU times: user 1h 17min 46s, sys: 6.94 s, total: 1h 17min 53s\n",
      "Wall time: 1h 17min 58s\n"
     ]
    }
   ],
   "source": [
    "%%time\n",
    "brill_tagger = brill_tagger.train(train_sents)"
   ]
  },
  {
   "cell_type": "code",
   "execution_count": 31,
   "metadata": {
    "collapsed": false
   },
   "outputs": [
    {
     "name": "stdout",
     "output_type": "stream",
     "text": [
      "Точность BrillTagger: 0.954701100452\n"
     ]
    }
   ],
   "source": [
    "print u\"Точность BrillTagger:\", brill_tagger.evaluate(test_sents)"
   ]
  },
  {
   "cell_type": "markdown",
   "metadata": {},
   "source": [
    "BrillTagger -- тегер на трансформациях. Данный тегер изменяет слово на основе предопределенных правил. Обучается очень долго, однако по качеству не превосходит CRFTagger."
   ]
  },
  {
   "cell_type": "markdown",
   "metadata": {},
   "source": [
    "##### Выводы\n",
    "| Модель | Время обучения | Точность |\n",
    "|------|------|------|\n",
    "|   HMM  | 3s |0.954 |\n",
    "|DefaultTagger| 0 | 0.235|\n",
    "|RegexpTagger|2s| 0.297|\n",
    "|Unigram|3s|0.932|\n",
    "|Bigram|5s|0.941|\n",
    "|Trigram|8s|0.94|\n",
    "|CRFTagger|5m42s|**0.962**|\n",
    "|StanfordPOSTagger|0(уже обучена)|0.91|\n",
    "|BrillTagger|1h17m|0.954|\n",
    "\n",
    "Лучше всего использовать CRFTagger."
   ]
  },
  {
   "cell_type": "markdown",
   "metadata": {},
   "source": [
    "### 2. Выделение именованных сущностей (NER)\n",
    "\n"
   ]
  },
  {
   "cell_type": "markdown",
   "metadata": {},
   "source": [
    "#### 2.1. Генерация признаков для CRF"
   ]
  },
  {
   "cell_type": "markdown",
   "metadata": {},
   "source": [
    "Выделение именованных сущностей - другая распространенная задача разметки последовательности слов. Чаще всего она решается марковскими моделями максимальной энтропии (MEMM) или условными случайными полями (CRF). При этом основная сложность заключается в генерации  хороших признаков. \n",
    "\n",
    "В данном задании требуется придумать и использовать множество признаков для обучения CRF из библиотеки CRFsuite. В этой библиотеке реализована linear-chain CRF с потенциалами двух типов (аналогично HMM):\n",
    "\n",
    "$$ \\psi_{mk}(t_{i-1}, t_{i}) = [t_{i-1} = m] \\, [t_{i} = k]; \\quad \\psi_{jk}(t_{i}, x_i) = [t_{i} = k] \\, f_j(x_i)$$\n",
    "\n",
    "\n",
    "Потенциалы первого типа назвают transition features, они зависят только от биграмм меток. Потенциалы второго типа -- label-observation (node-observation) features; они зависят от метки и признаков наблюдаемого слова (observation features). Несмотря на то, что в формуле явно участвует текущее слово $x_i$, подход остается полностью корректным, когда признаки зависят также от контекста слова (соседних слов). Это следствие того, что CRF является дискриминативной моделью, и наблюдаемые переменные $X$ не моделируются. \n"
   ]
  },
  {
   "cell_type": "markdown",
   "metadata": {},
   "source": [
    "**Указания к заданию:** \n",
    "- Загрузите из NLTK обучающие и тестовые датасеты для задачи выделения именованных сущностей CoNLL 2002 shared task на испанском и голландском языках в BIO-нотации (nltk.corpus.conll2002), а так же CoNLL 2000 на английском языке.\n",
    "- Для обучения CRF модели библиотеке необходимо передать последовательность наблюдаемых признаков $f_j(x_i)$ и меток $y_i$. Ниже приведен весь технический код, который позволит сконцентрироваться только на самом творческом этапе -- генерации признаков.\n",
    "- Оцените качество приведенного решения. \n",
    "- Ваша задача заключается в том, чтобы повысить его. Помимо генерации новых признаков, можно обратить внимание на параметры обучения, в частности, feature.minfreq позволяет отсеивать редкие признаки.  \n",
    "- При проверке задания будет оцениваться как достигнутое качество, так и разнообразие/оригинальность использованных признаков. Если вы попробовали какие-то признаки, но они не помогли, также включите их в отчет. \n",
    "- Если у Вас закончилась фантазия, почитайте обзоры и статьи по теме.\n"
   ]
  },
  {
   "cell_type": "code",
   "execution_count": 617,
   "metadata": {
    "collapsed": false
   },
   "outputs": [],
   "source": [
    "# Let's define very simple example features.\n",
    "import re\n",
    "\n",
    "# Бейзлайн\n",
    "def word2features_base(sent, i):\n",
    "    word = sent[i][0]\n",
    "    postag = sent[i][1]\n",
    "    features = [\n",
    "        'bias',\n",
    "        'word.lower=' + word.lower(),\n",
    "        'word[-3:]=' + word[-3:],\n",
    "        'word.isupper=%s' % word.isupper(),\n",
    "        'postag=' + postag,\n",
    "        # your code here\n",
    "    ]\n",
    "    if i > 0:\n",
    "        word1 = sent[i-1][0]\n",
    "        postag1 = sent[i-1][1]\n",
    "        features.extend([\n",
    "            '-1:word.lower=' + word1.lower(),\n",
    "            '-1:word.isupper=%s' % word1.isupper(),\n",
    "            '-1:postag=' + postag1,\n",
    "        ])\n",
    "    else:\n",
    "        features.append('BOS')\n",
    "    return features\n",
    "\n",
    "\n",
    "#Новые фичи\n",
    "def word2features_extend(sent, i):\n",
    "    word = sent[i][0]\n",
    "    postag = sent[i][1]\n",
    "    features = [\n",
    "        'bias',\n",
    "        'word.lower=' + word.lower(),\n",
    "        'word[-3:]=' + word[-3:],\n",
    "        'word.isupper=%s' % word.isupper(),\n",
    "        'word.isupper=%s' % word.isupper(),\n",
    "        'postag=' + postag,\n",
    "        'word.istitle=%s' % word.istitle()\n",
    "    ]\n",
    "    if i > 0:\n",
    "        word1 = sent[i-1][0]\n",
    "        postag1 = sent[i-1][1]\n",
    "        features.extend([\n",
    "            '-1:word[-3]=' + word1[-3:],\n",
    "            '-1:word.lower=' + word1.lower(),\n",
    "            '-1:word.istitle=%s' % word1.istitle(),\n",
    "            '-1:word.islower=%s' % word1.islower(),\n",
    "            '-1:word.isalnum=%s' % word1.isalnum(), \n",
    "            '-1:word.isupper=%s' % word1.isupper(),\n",
    "            '-1:postag=' + postag1,\n",
    "            '-1:word_digit=%s' % bool(re.search(r'\\d', word1)),\n",
    "        ])\n",
    "    else:\n",
    "        features.append('BOS')\n",
    "    if i < len(sent)-1:\n",
    "        word1 = sent[i+1][0]\n",
    "        postag1 = sent[i+1][1]\n",
    "        features.extend([\n",
    "            '+1:word[-3:]=' + word1[-3:],\n",
    "            '+1:word.lower=' + word1.lower(),\n",
    "            '+1:word.istitle=%s' % word1.istitle(),\n",
    "            '+1:word.islower=%s' % word1.islower(),\n",
    "            '+1:word.isalnum=%s' % word1.isalnum(), \n",
    "            '+1:word.isupper=%s' % word1.isupper(),\n",
    "            '+1:postag=' + postag1\n",
    "        ])\n",
    "    else:\n",
    "        features.append('EOS')\n",
    "    return features\n",
    "\n",
    "def sent2features(sent, base=True):\n",
    "    if base:\n",
    "        return [word2features_base(sent, i) for i in range(len(sent))]\n",
    "    else:\n",
    "        return [word2features_extend(sent, i)  for i in range(len(sent))]\n",
    "\n",
    "def sent2labels(sent):\n",
    "    return [label for token, postag, label in sent]"
   ]
  },
  {
   "cell_type": "code",
   "execution_count": 618,
   "metadata": {
    "collapsed": false
   },
   "outputs": [],
   "source": [
    "# Let's prepare functions for more comfortable work with pycrfsuite.\n",
    "\n",
    "import pycrfsuite\n",
    "\n",
    "MODEL_NAME = 'model.crfsuite'\n",
    "\n",
    "def train(train, base=True):\n",
    "    X_train = [sent2features(s, base=base) for s in train]\n",
    "    y_train = [sent2labels(s) for s in train]\n",
    "    \n",
    "    trainer = pycrfsuite.Trainer(verbose=False, algorithm='lbfgs')\n",
    "\n",
    "    trainer.set_params({'c1': 0.3, 'c2': 5*1e-2, 'max_iterations': 50, 'linesearch': 'StrongBacktracking',\n",
    "                            'max_linesearch':10, 'feature.minfreq': 0.1, 'feature.possible_transitions': True})\n",
    "    for xseq, yseq in zip(X_train, y_train):\n",
    "        trainer.append(xseq, yseq)\n",
    "\n",
    "    trainer.train(MODEL_NAME)\n",
    "\n",
    "def evaluate(test, base=True):\n",
    "    X_test = [sent2features(s, base=base) for s in test]\n",
    "    y_test = [sent2labels(s) for s in test]\n",
    "\n",
    "    tagger = pycrfsuite.Tagger()\n",
    "    tagger.open(MODEL_NAME)\n",
    "\n",
    "    y_pred = [tagger.tag(x) for x in X_test]\n",
    "\n",
    "    true_counter, total_counter = 0.0, 0.0\n",
    "    for p, t in zip(y_pred, y_test):\n",
    "        assert len(p) == len(t)\n",
    "        total_counter += len(p)\n",
    "        true_counter += sum([str(i) == str(j) for i, j in zip(p, t)])\n",
    "    return true_counter / total_counter"
   ]
  },
  {
   "cell_type": "code",
   "execution_count": 593,
   "metadata": {
    "collapsed": true
   },
   "outputs": [],
   "source": [
    "from nltk.corpus import conll2002, conll2000"
   ]
  },
  {
   "cell_type": "code",
   "execution_count": 594,
   "metadata": {
    "collapsed": false
   },
   "outputs": [
    {
     "data": {
      "text/plain": [
       "[u'esp.testa',\n",
       " u'esp.testb',\n",
       " u'esp.train',\n",
       " u'ned.testa',\n",
       " u'ned.testb',\n",
       " u'ned.train']"
      ]
     },
     "execution_count": 594,
     "metadata": {},
     "output_type": "execute_result"
    }
   ],
   "source": [
    "conll2002.fileids()"
   ]
  },
  {
   "cell_type": "code",
   "execution_count": 595,
   "metadata": {
    "collapsed": false
   },
   "outputs": [
    {
     "data": {
      "text/plain": [
       "['train.txt', 'test.txt']"
      ]
     },
     "execution_count": 595,
     "metadata": {},
     "output_type": "execute_result"
    }
   ],
   "source": [
    "conll2000.fileids()"
   ]
  },
  {
   "cell_type": "code",
   "execution_count": 596,
   "metadata": {
    "collapsed": false
   },
   "outputs": [],
   "source": [
    "train_sents_ned = list(conll2002.iob_sents(u'ned.train'))\n",
    "test_sents_ned = list(conll2002.iob_sents(u'ned.testa'))\n",
    "\n",
    "train_sents_esp = list(conll2002.iob_sents(u'esp.train'))\n",
    "test_sents_esp = list(conll2002.iob_sents(u'esp.testa'))\n",
    "\n",
    "train_sents_eng = list(conll2000.iob_sents('train.txt'))\n",
    "test_sents_eng = list(conll2000.iob_sents('test.txt'))"
   ]
  },
  {
   "cell_type": "markdown",
   "metadata": {},
   "source": [
    "##### Данные"
   ]
  },
  {
   "cell_type": "code",
   "execution_count": 597,
   "metadata": {
    "collapsed": true
   },
   "outputs": [],
   "source": [
    "all_tags_ned = [tag for train_sent in train_sents_ned for _, _, tag in train_sent]\n",
    "all_tags_esp = [tag for train_sent in train_sents_esp for _, _, tag in train_sent]\n",
    "all_tags_eng = [tag for train_sent in train_sents_eng for _, _, tag in train_sent]"
   ]
  },
  {
   "cell_type": "code",
   "execution_count": 598,
   "metadata": {
    "collapsed": false
   },
   "outputs": [],
   "source": [
    "tags_ned_freq = Counter(all_tags_ned)\n",
    "tags_esp_freq = Counter(all_tags_esp)\n",
    "tags_eng_freq = Counter(all_tags_eng)"
   ]
  },
  {
   "cell_type": "code",
   "execution_count": 599,
   "metadata": {
    "collapsed": false
   },
   "outputs": [
    {
     "data": {
      "image/png": "[encoded data removed]",
      "text/plain": [
       "<matplotlib.figure.Figure at 0x7fa29e064190>"
      ]
     },
     "metadata": {},
     "output_type": "display_data"
    }
   ],
   "source": [
    "tags, ned_freqs = zip(*tags_ned_freq.items())\n",
    "inds = np.argsort(ned_freqs)[::-1]\n",
    "tags = np.array(tags)[inds]\n",
    "ned_freqs = np.array(ned_freqs)[inds]\n",
    "\n",
    "inds = np.arange(len(tags))\n",
    "bar_width = 0.3\n",
    "plt.figure(figsize=(10, 5))\n",
    "plt.bar(inds, ned_freqs, width=0.3)\n",
    "plt.xticks(inds + bar_width, tags)\n",
    "plt.title(u'Голландский датасет')\n",
    "plt.xlabel(u'Сущности')\n",
    "plt.ylabel(u'Количество')\n",
    "plt.yscale('log')"
   ]
  },
  {
   "cell_type": "code",
   "execution_count": 600,
   "metadata": {
    "collapsed": false
   },
   "outputs": [
    {
     "data": {
      "image/png": "[encoded data removed]",
      "text/plain": [
       "<matplotlib.figure.Figure at 0x7fa26a36ccd0>"
      ]
     },
     "metadata": {},
     "output_type": "display_data"
    }
   ],
   "source": [
    "tags, esp_freqs = zip(*tags_esp_freq.items())\n",
    "inds = np.argsort(esp_freqs)[::-1]\n",
    "tags = np.array(tags)[inds]\n",
    "esp_freqs = np.array(esp_freqs)[inds]\n",
    "\n",
    "inds = np.arange(len(tags))\n",
    "bar_width = 0.3\n",
    "plt.figure(figsize=(10, 5))\n",
    "plt.bar(inds, esp_freqs, width=0.3)\n",
    "plt.xticks(inds + bar_width, tags, rotation=45)\n",
    "plt.title(u'Испанский датасет')\n",
    "plt.xlabel(u'Сущности')\n",
    "plt.ylabel(u'Количество')\n",
    "plt.yscale('log')"
   ]
  },
  {
   "cell_type": "code",
   "execution_count": 601,
   "metadata": {
    "collapsed": false
   },
   "outputs": [
    {
     "data": {
      "image/png": "[encoded data removed]",
      "text/plain": [
       "<matplotlib.figure.Figure at 0x7fa285358250>"
      ]
     },
     "metadata": {},
     "output_type": "display_data"
    }
   ],
   "source": [
    "tags, eng_freqs = zip(*tags_eng_freq.items())\n",
    "inds = np.argsort(eng_freqs)[::-1]\n",
    "tags = np.array(tags)[inds]\n",
    "eng_freqs = np.array(eng_freqs)[inds]\n",
    "\n",
    "inds = np.arange(len(tags))\n",
    "bar_width = 0.3\n",
    "plt.figure(figsize=(10, 5))\n",
    "plt.bar(inds, eng_freqs, width=0.3)\n",
    "plt.xticks(inds + bar_width, tags, rotation=45)\n",
    "plt.title(u'Английский датасет')\n",
    "plt.xlabel(u'Сущности')\n",
    "plt.ylabel(u'Количество')\n",
    "plt.yscale('log')"
   ]
  },
  {
   "cell_type": "code",
   "execution_count": 619,
   "metadata": {
    "collapsed": false
   },
   "outputs": [
    {
     "name": "stdout",
     "output_type": "stream",
     "text": [
      "Точность на голландском корпусе (бейзлайн): 0.950539973996\n",
      "CPU times: user 12.9 s, sys: 84.1 ms, total: 13 s\n",
      "Wall time: 12.9 s\n"
     ]
    }
   ],
   "source": [
    "%%time\n",
    "train(train_sents_ned)\n",
    "print u\"Точность на голландском корпусе (бейзлайн):\", evaluate(test_sents_ned)"
   ]
  },
  {
   "cell_type": "code",
   "execution_count": 620,
   "metadata": {
    "collapsed": false
   },
   "outputs": [
    {
     "name": "stdout",
     "output_type": "stream",
     "text": [
      "Точность на голландском корпусе (с добавлением фичей): 0.967150476292\n",
      "CPU times: user 23.9 s, sys: 208 ms, total: 24.1 s\n",
      "Wall time: 24.1 s\n"
     ]
    }
   ],
   "source": [
    "%%time\n",
    "train(train_sents_ned, base=False)\n",
    "print u\"Точность на голландском корпусе (с добавлением фичей):\", evaluate(test_sents_ned, base=False)"
   ]
  },
  {
   "cell_type": "code",
   "execution_count": 621,
   "metadata": {
    "collapsed": false
   },
   "outputs": [
    {
     "name": "stdout",
     "output_type": "stream",
     "text": [
      "Точность на испанском корпусе (бейзлайн): 0.934981010147\n",
      "CPU times: user 17.4 s, sys: 148 ms, total: 17.6 s\n",
      "Wall time: 17.5 s\n"
     ]
    }
   ],
   "source": [
    "%%time\n",
    "train(train_sents_esp)\n",
    "print u\"Точность на испанском корпусе (бейзлайн):\", evaluate(test_sents_esp)"
   ]
  },
  {
   "cell_type": "code",
   "execution_count": 622,
   "metadata": {
    "collapsed": false
   },
   "outputs": [
    {
     "name": "stdout",
     "output_type": "stream",
     "text": [
      "Точность на испанском корпусе (с добавлением фичей): 0.953857491072\n",
      "CPU times: user 30.7 s, sys: 244 ms, total: 30.9 s\n",
      "Wall time: 30.9 s\n"
     ]
    }
   ],
   "source": [
    "%%time\n",
    "train(train_sents_esp, base=False)\n",
    "print u\"Точность на испанском корпусе (с добавлением фичей):\", evaluate(test_sents_esp, base=False)"
   ]
  },
  {
   "cell_type": "code",
   "execution_count": 623,
   "metadata": {
    "collapsed": false
   },
   "outputs": [
    {
     "name": "stdout",
     "output_type": "stream",
     "text": [
      "Точность на английском корпусе (бейзлайн): 0.951685416974\n",
      "CPU times: user 29.5 s, sys: 60.1 ms, total: 29.5 s\n",
      "Wall time: 29.5 s\n"
     ]
    }
   ],
   "source": [
    "%%time\n",
    "train(train_sents_eng)\n",
    "print u\"Точность на английском корпусе (бейзлайн):\", evaluate(test_sents_eng)"
   ]
  },
  {
   "cell_type": "code",
   "execution_count": 624,
   "metadata": {
    "collapsed": false
   },
   "outputs": [
    {
     "name": "stdout",
     "output_type": "stream",
     "text": [
      "Точность на английском корпусе (с добавлением фичей): 0.952424172067\n",
      "CPU times: user 47.9 s, sys: 312 ms, total: 48.2 s\n",
      "Wall time: 48.2 s\n"
     ]
    }
   ],
   "source": [
    "%%time\n",
    "train(train_sents_eng, base=False)\n",
    "print u\"Точность на английском корпусе (с добавлением фичей):\", evaluate(test_sents_eng, base=False)"
   ]
  },
  {
   "cell_type": "markdown",
   "metadata": {},
   "source": [
    "##### Выводы:\n",
    "- Добавление дополнительных признаков увеличило качество классификации. Добавил фичи на основе следующего слова (x_{i+1}).\n",
    "- Также можно было потюнить параметры CRF. Например, в работе использовался метод оптимизации lbfgs и немного изменены параметры c1, c2."
   ]
  },
  {
   "cell_type": "markdown",
   "metadata": {},
   "source": [
    "#### 2.2. Stanford NER tagger\n",
    "\n",
    "Воспользуйтесь StanfordNERTagger для решения задачи NER на тестовых данных CoNLL 2000, только для английского языка (обучать модель не нужно, в Интернете легко найти готовую). Приведите данные в соответствие нужному формату, используйте теггер и оцените качество и скорость работы. Сравните результаты с полученными ранее."
   ]
  },
  {
   "cell_type": "code",
   "execution_count": 323,
   "metadata": {
    "collapsed": false
   },
   "outputs": [
    {
     "name": "stderr",
     "output_type": "stream",
     "text": [
      "/root/anaconda3/envs/ipykernel_py2/lib/python2.7/site-packages/nltk/tag/stanford.py:183: DeprecationWarning: \n",
      "The StanfordTokenizer will be deprecated in version 3.2.5.\n",
      "Please use \u001b[91mnltk.tag.corenlp.CoreNLPPOSTagger\u001b[0m or \u001b[91mnltk.tag.corenlp.CoreNLPNERTagger\u001b[0m instead.\n",
      "  super(StanfordNERTagger, self).__init__(*args, **kwargs)\n"
     ]
    }
   ],
   "source": [
    "from nltk.tag import StanfordNERTagger\n",
    "path_to_model = 'stanford-ner-2018-02-27/classifiers/english.conll.4class.distsim.crf.ser.gz'\n",
    "path_to_jar = \"stanford-ner-2018-02-27/stanford-ner.jar\"\n",
    "stanford_ner_tagger = StanfordNERTagger(path_to_model, path_to_jar)"
   ]
  },
  {
   "cell_type": "markdown",
   "metadata": {},
   "source": [
    "'eng2.testa', 'eng2.testb' были скачаны из репозитория \n",
    "https://github.com/synalp/NER/tree/master/corpus/CoNLL-2003, распарсены и добавлены в nltk_data/conll2002"
   ]
  },
  {
   "cell_type": "code",
   "execution_count": 324,
   "metadata": {
    "collapsed": false
   },
   "outputs": [],
   "source": [
    "test_sents2002 = conll2002.iob_sents(['eng2.testa', 'eng2.testb'])\n",
    "test_sents_words = [[word for word, _, _ in test_sent] for test_sent in test_sents2002]"
   ]
  },
  {
   "cell_type": "code",
   "execution_count": 325,
   "metadata": {
    "collapsed": false
   },
   "outputs": [
    {
     "name": "stdout",
     "output_type": "stream",
     "text": [
      "CPU times: user 190 ms, sys: 48.1 ms, total: 238 ms\n",
      "Wall time: 7.95 s\n"
     ]
    }
   ],
   "source": [
    "%%time\n",
    "pred_stanford_tag = stanford_ner_tagger.tag_sents(test_sents_words)"
   ]
  },
  {
   "cell_type": "code",
   "execution_count": 326,
   "metadata": {
    "collapsed": true
   },
   "outputs": [],
   "source": [
    "test2stanford = {\n",
    "    u'B-LOC' : u'LOCATION', \n",
    "    u'B-MISC' : u'MISC', \n",
    "    u'B-ORG' : u'ORGANIZATION', \n",
    "    u'I-LOC' : u'LOCATION', \n",
    "    u'I-MISC' : u'MISC', \n",
    "    u'I-ORG' : u'ORGANIZATION', \n",
    "    u'I-PER' : u'PERSON', \n",
    "    u'O' : u'O'\n",
    "}\n",
    "pred_stanford_tag = [tag for test_sent in pred_stanford_tag for _, tag in test_sent]\n",
    "test_tags = [test2stanford[tag] for test_sent in test_sents2002 for _, _, tag in test_sent]"
   ]
  },
  {
   "cell_type": "code",
   "execution_count": 327,
   "metadata": {
    "collapsed": false
   },
   "outputs": [
    {
     "name": "stdout",
     "output_type": "stream",
     "text": [
      "Точность StanfordNERTagger: 0.981216192726\n"
     ]
    }
   ],
   "source": [
    "print u\"Точность StanfordNERTagger:\", (np.array(pred_stanford_tag) == \n",
    "                                     np.array(test_tags)).mean()"
   ]
  },
  {
   "cell_type": "markdown",
   "metadata": {},
   "source": [
    "### Выводы:\n",
    "- реализован алгоритм Витерби, который показал неплохое качество на брауновском корпусе.\n",
    "- запущены реализованные в библиотеке тегеры. Лучшим среди них для данной задачи оказался CRFTagger на основе графических моделей.\n",
    "- решена задача NER с помощью CRF модели. При добавлении новых признаков качество было улучшено."
   ]
  },
  {
   "cell_type": "code",
   "execution_count": null,
   "metadata": {
    "collapsed": true
   },
   "outputs": [],
   "source": []
  }
 ],
 "metadata": {
  "kernelspec": {
   "display_name": "Python 2",
   "language": "python",
   "name": "python2"
  },
  "language_info": {
   "codemirror_mode": {
    "name": "ipython",
    "version": 2
   },
   "file_extension": ".py",
   "mimetype": "text/x-python",
   "name": "python",
   "nbconvert_exporter": "python",
   "pygments_lexer": "ipython2",
   "version": "2.7.11"
  }
 },
 "nbformat": 4,
 "nbformat_minor": 0
}
